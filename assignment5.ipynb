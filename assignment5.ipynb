{
 "cells": [
  {
   "cell_type": "code",
   "execution_count": 1,
   "metadata": {},
   "outputs": [
    {
     "name": "stdout",
     "output_type": "stream",
     "text": [
      "Uzair\n",
      "Bilal\n",
      "Mohsin\n",
      "Jamil\n",
      "Zeeshan\n"
     ]
    }
   ],
   "source": [
    "#Q.1 \n",
    "# Create a list called 'names' with the names of a few friends\n",
    "names = [\"Uzair\", \"Bilal\", \"Mohsin\", \"Jamil\", \"Zeeshan\"]\n",
    "# Print each person's name by accessing each element in the list\n",
    "print(names[0])  \n",
    "print(names[1])  \n",
    "print(names[2])  \n",
    "print(names[3])  \n",
    "print(names[4])  "
   ]
  },
  {
   "cell_type": "code",
   "execution_count": null,
   "metadata": {},
   "outputs": [],
   "source": [
    "#Q.2\n",
    "names = [\"Uzair\", \"Bilal\", \"Mohsin\", \"Jamil\", \"Zeeshan\"]\n",
    "# Print a personalized message for each friend\n",
    "msg_0 = f\"Hello, {names[0]}! How are you?\"\n",
    "msg_1 = f\"Hello, {names[1]}! How are you?\"\n",
    "msg_2 = f\"Hello, {names[2]}! How are you?\"\n",
    "msg_3 = f\"Hello, {names[3]}! How are you?\"\n",
    "msg_4 = f\"Hello, {names[4]}! How are you?\"\n",
    "print(msg_0)\n",
    "print(msg_1)\n",
    "print(msg_2)\n",
    "print(msg_3)\n",
    "print(msg_4)"
   ]
  },
  {
   "cell_type": "code",
   "execution_count": null,
   "metadata": {},
   "outputs": [],
   "source": [
    "#Q.3\n",
    "vehicles = [\"Honda Civic\", \"Honda City\", \"Corolla Altis\"]\n",
    "veh_0 = f\"I would like to drive {vehicles[0]}.\"\n",
    "veh_1 = f\"I would like to drive {vehicles[1]}.\"\n",
    "veh_2 = f\"I would like to drive {vehicles[2]}.\"\n",
    "print(veh_0)\n",
    "print(veh_1)\n",
    "print(veh_2)"
   ]
  },
  {
   "cell_type": "code",
   "execution_count": null,
   "metadata": {},
   "outputs": [],
   "source": [
    "#4\n",
    "# Create a list called 'guests' with the names of people you'd like to invite to dinner\n",
    "\n",
    "guests = [\"Uzair\", \"Bilal\", \"Mohsin\"]\n",
    "\n",
    "# Print a personalized invitation message for each guest\n",
    "\n",
    "print(f\"Dear {guests[0]}, I would be honored to have you join me for dinner.\")\n",
    "print(f\"Dear {guests[1]}, I would be honored to have you join me for dinner.\")\n",
    "print(f\"Dear {guests[2]}, I would be honored to have you join me for dinner.\")"
   ]
  },
  {
   "cell_type": "code",
   "execution_count": null,
   "metadata": {},
   "outputs": [],
   "source": [
    "#5\n",
    "guests_1 = [\"Uzair\", \"Bilal\", \"Mohsin\"]\n",
    "\n",
    "print(f\"Dear {guests_1[0]}, I would be honored to have you join me for dinner.\")\n",
    "print(f\"Dear {guests_1[1]}, I would be honored to have you join me for dinner.\")\n",
    "print(f\"Dear {guests_1[2]}, I would be honored to have you join me for dinner.\")\n",
    "\n",
    "can_not_attend = guests_1[1]\n",
    "print(f\"\\nUnfortunately, {can_not_attend} can't make it to the dinner.\")\n",
    "\n",
    "guests_1[1] = \"Jamil\"\n",
    "print(\"\\nUpdated invitations:\")\n",
    "print(f\"Dear {guests_1[0]}, I would be honored to have you join me for dinner.\")\n",
    "print(f\"Dear {guests_1[1]}, I would be honored to have you join me for dinner.\")\n",
    "print(f\"Dear {guests_1[2]}, I would be honored to have you join me for dinner.\")"
   ]
  },
  {
   "cell_type": "code",
   "execution_count": 2,
   "metadata": {},
   "outputs": [
    {
     "name": "stdout",
     "output_type": "stream",
     "text": [
      "Dear Uzair, I would be honored to have you join me for dinner.\n",
      "Dear Bilal, I would be honored to have you join me for dinner.\n",
      "Dear Mohsin, I would be honored to have you join me for dinner.\n",
      "\n",
      "Good news! We found a bigger table.\n",
      "\n",
      "Updated invitations:\n",
      "Dear Ali, I would be honored to have you join me for dinner.\n",
      "Dear Uzair, I would be honored to have you join me for dinner.\n",
      "Dear Zeeshan, I would be honored to have you join me for dinner.\n",
      "Dear Bilal, I would be honored to have you join me for dinner.\n",
      "Dear Mohsin, I would be honored to have you join me for dinner.\n",
      "Dear Jamil, I would be honored to have you join me for dinner.\n",
      "['Ali', 'Uzair', 'Zeeshan', 'Bilal', 'Mohsin', 'Jamil']\n"
     ]
    }
   ],
   "source": [
    "#Q.6\n",
    "guests_2 = [\"Uzair\", \"Bilal\", \"Mohsin\"]\n",
    "\n",
    "print(f\"Dear {guests_2[0]}, I would be honored to have you join me for dinner.\")\n",
    "print(f\"Dear {guests_2[1]}, I would be honored to have you join me for dinner.\")\n",
    "print(f\"Dear {guests_2[2]}, I would be honored to have you join me for dinner.\")\n",
    "\n",
    "# Inform that a bigger table has been found\n",
    "print(\"\\nGood news! We found a bigger table.\")\n",
    "\n",
    "# Add new guests to the list\n",
    "guests_2.insert(0, \"Ali\")  # Add a guest to the beginning of the list\n",
    "guests_2.insert(2, \"Zeeshan\")        # Add a guest to the middle of the list\n",
    "guests_2.append(\"Jamil\")        # Add a guest to the end of the list\n",
    "\n",
    "print(\"\\nUpdated invitations:\")\n",
    "print(f\"Dear {guests_2[0]}, I would be honored to have you join me for dinner.\")\n",
    "print(f\"Dear {guests_2[1]}, I would be honored to have you join me for dinner.\")\n",
    "print(f\"Dear {guests_2[2]}, I would be honored to have you join me for dinner.\")\n",
    "print(f\"Dear {guests_2[3]}, I would be honored to have you join me for dinner.\")\n",
    "print(f\"Dear {guests_2[4]}, I would be honored to have you join me for dinner.\")\n",
    "print(f\"Dear {guests_2[5]}, I would be honored to have you join me for dinner.\")\n",
    "print(guests_2)"
   ]
  },
  {
   "cell_type": "code",
   "execution_count": 13,
   "metadata": {},
   "outputs": [
    {
     "name": "stdout",
     "output_type": "stream",
     "text": [
      "\n",
      "Unfortunately, I can invite only two people for dinner.\n",
      "['Mohsin', 'Jamil']\n",
      "Dear Ali, I'm sorry, but I can't invite you to dinner.\n",
      "Dear Uzair, I'm sorry, but I can't invite you to dinner.\n",
      "Dear Zeeshan, I'm sorry, but I can't invite you to dinner.\n",
      "Dear Bilal, I'm sorry, but I can't invite you to dinner.\n",
      "\n",
      "These are the two guests still invited:\n",
      "Dear Mohsin, you are still invited to dinner.\n",
      "Dear Jamil, you are still invited to dinner.\n",
      "\n",
      "Final guest list: []\n"
     ]
    }
   ],
   "source": [
    "#Q.7\n",
    "#Intial list of guests\n",
    "guests_3 = [\"Ali\", \"Uzair\", \"Zeeshan\", \"Bilal\", \"Mohsin\", \"Jamil\"]\n",
    "# Inform that only two people can be invited\n",
    "print(\"\\nUnfortunately, I can invite only two people for dinner.\")\n",
    "\n",
    "gst_0 = guests_3.pop(0)\n",
    "gst_1 = guests_3.pop(0)\n",
    "gst_2 = guests_3.pop(0)\n",
    "gst_3 = guests_3.pop(0)\n",
    "print(guests_3)    \n",
    "\n",
    "print(f\"Dear {gst_0}, I'm sorry, but I can't invite you to dinner.\")\n",
    "print(f\"Dear {gst_1}, I'm sorry, but I can't invite you to dinner.\")\n",
    "print(f\"Dear {gst_2}, I'm sorry, but I can't invite you to dinner.\")\n",
    "print(f\"Dear {gst_3}, I'm sorry, but I can't invite you to dinner.\")\n",
    "\n",
    "# Inform the remaining two guests that they are still invited\n",
    "print(\"\\nThese are the two guests still invited:\")\n",
    "\n",
    "print(f\"Dear {guests_3[0]}, you are still invited to dinner.\")\n",
    "print(f\"Dear {guests_3[1]}, you are still invited to dinner.\")\n",
    "\n",
    "# Remove the last two names from the list using del\n",
    "del guests_3[0]\n",
    "del guests_3[0]\n",
    "\n",
    "# Print the list to ensure it is empty\n",
    "print(f\"\\nFinal guest list: {guests_3}\")\n",
    "\n"
   ]
  },
  {
   "cell_type": "code",
   "execution_count": 14,
   "metadata": {},
   "outputs": [
    {
     "name": "stdout",
     "output_type": "stream",
     "text": [
      "Original list:\n",
      "['Turkey', 'Australia', 'Santorini', 'Machu Picchu', 'New Zealand']\n",
      "\n",
      "List in alphabetical order (using sorted()):\n",
      "['Australia', 'Machu Picchu', 'New Zealand', 'Santorini', 'Turkey']\n",
      "\n",
      "List after sorted() (still in original order):\n",
      "['Turkey', 'Australia', 'Santorini', 'Machu Picchu', 'New Zealand']\n",
      "\n",
      "List in reverse-alphabetical order (using sorted()):\n",
      "['Turkey', 'Santorini', 'New Zealand', 'Machu Picchu', 'Australia']\n",
      "\n",
      "List after sorted(reverse=True) (still in original order):\n",
      "['Turkey', 'Australia', 'Santorini', 'Machu Picchu', 'New Zealand']\n",
      "\n",
      "List after using reverse():\n",
      "['New Zealand', 'Machu Picchu', 'Santorini', 'Australia', 'Turkey']\n",
      "\n",
      "List after using reverse() again (back to original order):\n",
      "['Turkey', 'Australia', 'Santorini', 'Machu Picchu', 'New Zealand']\n",
      "\n",
      "List after using sort() (alphabetical order):\n",
      "['Australia', 'Machu Picchu', 'New Zealand', 'Santorini', 'Turkey']\n",
      "\n",
      "List after using sort(reverse=True) (reverse-alphabetical order):\n",
      "['Turkey', 'Santorini', 'New Zealand', 'Machu Picchu', 'Australia']\n"
     ]
    }
   ],
   "source": [
    "#Q.8\n",
    "# List of places I'd like to visit (not in alphabetical order)\n",
    "places = [\"Turkey\", \"Australia\", \"Zimbabwe\", \"Canada\", \"New Zealand\"]\n",
    "\n",
    "# Print the list in its original order\n",
    "print(\"Original list:\")\n",
    "print(places)\n",
    "\n",
    "# Use sorted() to print the list in alphabetical order without modifying the original list\n",
    "print(\"\\nList in alphabetical order (using sorted()):\")\n",
    "print(sorted(places))\n",
    "\n",
    "# Show that the list is still in its original order\n",
    "print(\"\\nList after sorted() (still in original order):\")\n",
    "print(places)\n",
    "\n",
    "# Use sorted() to print the list in reverse-alphabetical order without modifying the original list\n",
    "print(\"\\nList in reverse-alphabetical order (using sorted()):\")\n",
    "print(sorted(places, reverse=True))\n",
    "\n",
    "# Show that the list is still in its original order\n",
    "print(\"\\nList after sorted(reverse=True) (still in original order):\")\n",
    "print(places)\n",
    "\n",
    "# Use reverse() to change the order of the list\n",
    "places.reverse()\n",
    "print(\"\\nList after using reverse():\")\n",
    "print(places)\n",
    "\n",
    "# Use reverse() again to revert the list to its original order\n",
    "places.reverse()\n",
    "print(\"\\nList after using reverse() again (back to original order):\")\n",
    "print(places)\n",
    "\n",
    "# Use sort() to change the list so it’s stored in alphabetical order\n",
    "places.sort()\n",
    "print(\"\\nList after using sort() (alphabetical order):\")\n",
    "print(places)\n",
    "\n",
    "# Use sort() to change the list so it’s stored in reverse-alphabetical order\n",
    "places.sort(reverse=True)\n",
    "print(\"\\nList after using sort(reverse=True) (reverse-alphabetical order):\")\n",
    "print(places)\n"
   ]
  },
  {
   "cell_type": "code",
   "execution_count": 17,
   "metadata": {},
   "outputs": [
    {
     "name": "stdout",
     "output_type": "stream",
     "text": [
      "Original list of cities:\n",
      "['Lahore', 'Karachi', 'Faisalabad', 'Multan', 'Sialkot']\n",
      "\n",
      "First city in the list:\n",
      "Lahore\n",
      "\n",
      "Last city in the list:\n",
      "Sialkot\n",
      "\n",
      "List after modifying the third city:\n",
      "['Lahore', 'Karachi', 'Chakwal', 'Multan', 'Sialkot']\n",
      "\n",
      "List after adding a city to the end with append():\n",
      "['Lahore', 'Karachi', 'Chakwal', 'Multan', 'Sialkot', 'Bhakar']\n",
      "\n",
      "List after inserting a city at index 1 with insert():\n",
      "['Lahore', 'Dera Gazi Khan', 'Karachi', 'Chakwal', 'Multan', 'Sialkot', 'Bhakar']\n",
      "\n",
      "List after deleting the city at index 3 with del:\n",
      "['Lahore', 'Dera Gazi Khan', 'Karachi', 'Multan', 'Sialkot', 'Bhakar']\n",
      "\n",
      "List after using pop() to remove the last city:\n",
      "['Lahore', 'Dera Gazi Khan', 'Karachi', 'Multan', 'Sialkot']\n",
      "Popped city: Bhakar\n",
      "\n",
      "List after removing 'Dera Gazi Khan' with remove():\n",
      "['Lahore', 'Karachi', 'Multan', 'Sialkot']\n",
      "\n",
      "List after sorting with sort():\n",
      "['Karachi', 'Lahore', 'Multan', 'Sialkot']\n",
      "\n",
      "List after sorting in reverse-alphabetical order with sort(reverse=True):\n",
      "['Sialkot', 'Multan', 'Lahore', 'Karachi']\n",
      "\n",
      "List after reversing the order with reverse():\n",
      "['Karachi', 'Lahore', 'Multan', 'Sialkot']\n",
      "\n",
      "Length of the list using len():\n",
      "4\n"
     ]
    }
   ],
   "source": [
    "#Q.9\n",
    "# Create a list of cities\n",
    "cities = [\"Lahore\", \"Karachi\", \"Faisalabad\", \"Multan\", \"Sialkot\"]\n",
    "\n",
    "# Print the original list\n",
    "print(\"Original list of cities:\")\n",
    "print(cities)\n",
    "\n",
    "# Accessing elements by index\n",
    "print(\"\\nFirst city in the list:\")\n",
    "print(cities[0])\n",
    "\n",
    "print(\"\\nLast city in the list:\")\n",
    "print(cities[-1])\n",
    "\n",
    "# Modifying an element in the list\n",
    "cities[2] = \"Chakwal\"\n",
    "print(\"\\nList after modifying the third city:\")\n",
    "print(cities)\n",
    "\n",
    "# Adding elements to the list using append()\n",
    "cities.append(\"Bhakar\")\n",
    "print(\"\\nList after adding a city to the end with append():\")\n",
    "print(cities)\n",
    "\n",
    "# Inserting elements into the list using insert()\n",
    "cities.insert(1, \"Dera Gazi Khan\")\n",
    "print(\"\\nList after inserting a city at index 1 with insert():\")\n",
    "print(cities)\n",
    "\n",
    "# Removing an element from the list using del\n",
    "del cities[3]\n",
    "print(\"\\nList after deleting the city at index 3 with del:\")\n",
    "print(cities)\n",
    "\n",
    "# Removing the last element in the list using pop()\n",
    "popped_city = cities.pop()\n",
    "print(\"\\nList after using pop() to remove the last city:\")\n",
    "print(cities)\n",
    "print(f\"Popped city: {popped_city}\")\n",
    "\n",
    "# Removing an element by value using remove()\n",
    "cities.remove(\"Dera Gazi Khan\")\n",
    "print(\"\\nList after removing 'Dera Gazi Khan' with remove():\")\n",
    "print(cities)\n",
    "\n",
    "# Sorting the list in alphabetical order with sort()\n",
    "cities.sort()\n",
    "print(\"\\nList after sorting with sort():\")\n",
    "print(cities)\n",
    "\n",
    "# Sorting the list in reverse-alphabetical order with sort(reverse=True)\n",
    "cities.sort(reverse=True)\n",
    "print(\"\\nList after sorting in reverse-alphabetical order with sort(reverse=True):\")\n",
    "print(cities)\n",
    "\n",
    "# Reversing the order of the list with reverse()\n",
    "cities.reverse()\n",
    "print(\"\\nList after reversing the order with reverse():\")\n",
    "print(cities)\n",
    "\n",
    "# Finding the length of the list using len()\n",
    "length_of_list = len(cities)\n",
    "print(\"\\nLength of the list using len():\")\n",
    "print(length_of_list)\n"
   ]
  },
  {
   "cell_type": "code",
   "execution_count": 18,
   "metadata": {},
   "outputs": [
    {
     "name": "stdout",
     "output_type": "stream",
     "text": [
      "Trying to access an out-of-range index:\n"
     ]
    },
    {
     "ename": "IndexError",
     "evalue": "list index out of range",
     "output_type": "error",
     "traceback": [
      "\u001b[1;31m---------------------------------------------------------------------------\u001b[0m",
      "\u001b[1;31mIndexError\u001b[0m                                Traceback (most recent call last)",
      "Cell \u001b[1;32mIn[18], line 7\u001b[0m\n\u001b[0;32m      5\u001b[0m \u001b[38;5;66;03m# Intentionally accessing an index that doesn't exist to create an IndexError\u001b[39;00m\n\u001b[0;32m      6\u001b[0m \u001b[38;5;28mprint\u001b[39m(\u001b[38;5;124m\"\u001b[39m\u001b[38;5;124mTrying to access an out-of-range index:\u001b[39m\u001b[38;5;124m\"\u001b[39m)\n\u001b[1;32m----> 7\u001b[0m \u001b[38;5;28mprint\u001b[39m(\u001b[43mcities\u001b[49m\u001b[43m[\u001b[49m\u001b[38;5;241;43m5\u001b[39;49m\u001b[43m]\u001b[49m)  \u001b[38;5;66;03m# This will cause an IndexError because the list has only 5 elements (indices 0-4)\u001b[39;00m\n",
      "\u001b[1;31mIndexError\u001b[0m: list index out of range"
     ]
    }
   ],
   "source": [
    "#Q.10\n",
    "# Create a list of cities\n",
    "cities = [\"Lahore\", \"Karachi\", \"Faisalabad\", \"Multan\", \"Sialkot\"]\n",
    "\n",
    "print(\"Trying to access an out-of-range index:\")\n",
    "print(cities[5])  #IndexError because the list has only 5 elements (indices 0-4)\n"
   ]
  },
  {
   "cell_type": "code",
   "execution_count": 19,
   "metadata": {},
   "outputs": [
    {
     "name": "stdout",
     "output_type": "stream",
     "text": [
      "\n",
      "Accessing a valid index instead:\n",
      "Sialkot\n"
     ]
    }
   ],
   "source": [
    "#Q.10 correcting error\n",
    "print(\"\\nAccessing a valid index instead:\")\n",
    "print(cities[4])  \n"
   ]
  }
 ],
 "metadata": {
  "kernelspec": {
   "display_name": "Python 3",
   "language": "python",
   "name": "python3"
  },
  "language_info": {
   "codemirror_mode": {
    "name": "ipython",
    "version": 3
   },
   "file_extension": ".py",
   "mimetype": "text/x-python",
   "name": "python",
   "nbconvert_exporter": "python",
   "pygments_lexer": "ipython3",
   "version": "3.12.4"
  }
 },
 "nbformat": 4,
 "nbformat_minor": 2
}
